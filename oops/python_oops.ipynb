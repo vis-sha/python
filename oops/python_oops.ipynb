{
 "cells": [
  {
   "cell_type": "code",
   "execution_count": 23,
   "id": "9338b820",
   "metadata": {},
   "outputs": [],
   "source": [
    "class Employee:\n",
    "    \n",
    "    #class variables\n",
    "    num_emp = 0\n",
    "    pay_raise = 1.4\n",
    "    \n",
    "    def __init__(self , name , job , pay):\n",
    "        self.name = name\n",
    "        self.job = job\n",
    "        self.pay = pay\n",
    "        Employee.num_emp += 1 # using class name instaed of self as it is class variable\n",
    "        \n",
    "        \n",
    "    # instance method : method that take object/instance variable (self) as first argument automatically\n",
    "    def apply_raise(self):\n",
    "        self.pay = int(self.pay * self.pay_raise)\n",
    "    \n",
    "    @classmethod\n",
    "    def change_pay_raise(cls , amount):\n",
    "        cls.pay_raise = amount\n",
    "    \n",
    "    @staticmethod\n",
    "    def status(val):\n",
    "        print(f\"everything is {val}\")\n"
   ]
  },
  {
   "cell_type": "code",
   "execution_count": 24,
   "id": "6d1e2009",
   "metadata": {},
   "outputs": [],
   "source": [
    "# creating an instance/object of above class\n",
    "new_emp = Employee('alpha' , 'MLE' , 25000)"
   ]
  },
  {
   "cell_type": "markdown",
   "id": "cd6ba958",
   "metadata": {},
   "source": [
    "### Variables"
   ]
  },
  {
   "cell_type": "markdown",
   "id": "b9c9372f",
   "metadata": {},
   "source": [
    "#### Instance Variables\n",
    "\n",
    "Definition: Instance variables are variables that are bound to the instance of the class. They are defined inside methods (typically the __init__ method) using the self keyword.\n",
    "\n",
    "Scope: They are unique to each instance of the class. Each object of the class has its own copy of instance variables.\n",
    "\n",
    "Access: They are accessed using self in instance methods (e.g., self.variable_name)."
   ]
  },
  {
   "cell_type": "code",
   "execution_count": 25,
   "id": "42d6daa4",
   "metadata": {},
   "outputs": [
    {
     "name": "stdout",
     "output_type": "stream",
     "text": [
      "pay for this object is :  25000\n"
     ]
    }
   ],
   "source": [
    "print(\"pay for this object is : \",new_emp.pay)"
   ]
  },
  {
   "cell_type": "markdown",
   "id": "6ab03a1f",
   "metadata": {},
   "source": [
    "#### Class Variables\n",
    "Definition: Class variables are variables that are shared across all instances of a class. They are defined within the class but outside any instance methods.\n",
    "\n",
    "Scope: They are common to all instances of the class. If you change the value of a class variable, it is reflected across all instances of the class.\n",
    "\n",
    "Access: They are accessed using the class name or through an instance. However, modifying them through an instance can be misleading as it might create an instance variable with the same name."
   ]
  },
  {
   "cell_type": "code",
   "execution_count": 26,
   "id": "3067d814",
   "metadata": {},
   "outputs": [
    {
     "name": "stdout",
     "output_type": "stream",
     "text": [
      "Total number of employees directly : 1\n",
      "Total number of employees by object : 5\n"
     ]
    }
   ],
   "source": [
    "print(\"Total number of employees directly : {}\".format(Employee.num_emp))\n",
    "\n",
    "# Lets change class variable to see impact on objects\n",
    "Employee.num_emp = 5\n",
    "print(\"Total number of employees by object : {}\".format(new_emp.num_emp))\n"
   ]
  },
  {
   "cell_type": "markdown",
   "id": "138acec5",
   "metadata": {},
   "source": [
    "### Methods\n",
    "#### class method vs static method vs instance method\n",
    "\n",
    "* Instance methods are the most common type of method in Python classes. They operate on an instance of the class and can access and modify the instance's attributes. Instance methods are defined with self as their first parameter, which refers to the instance calling the method.\n",
    "\n",
    "\n",
    "* Class methods are methods that are bound to the class and not the instance of the class. They take a class as their first argument, typically named cls, and can modify class-level attributes but not instance-level attributes. Class methods are defined using the @classmethod decorator.\n",
    "\n",
    "\n",
    "* Static methods do not operate on an instance or class; they are like regular functions but belong to the class's namespace. They do not have access to self or cls. Static methods are defined using the @staticmethod decorator. They are useful for utility functions that do not need to access or modify class or instance attributes.\n",
    "\n"
   ]
  },
  {
   "cell_type": "code",
   "execution_count": 27,
   "id": "60e385c7",
   "metadata": {},
   "outputs": [
    {
     "name": "stdout",
     "output_type": "stream",
     "text": [
      "pay before raise is :  25000\n",
      "pay  after raise is :  35000\n",
      "--------------------\n",
      "Raise before : 1.4\n",
      "Raise after  : 1.5\n",
      "--------------------\n",
      "everything is good\n"
     ]
    }
   ],
   "source": [
    "# instance method example\n",
    "print(\"pay before raise is : \" , new_emp.pay)\n",
    "new_emp.apply_raise() # OR Employee.apply_raise(new_emp)\n",
    "print(\"pay  after raise is : \" , new_emp.pay)\n",
    "print('-'*20)\n",
    "\n",
    "# class method\n",
    "print(f\"Raise before : {new_emp.pay_raise}\")\n",
    "new_emp.change_pay_raise(1.5)\n",
    "print(f\"Raise after  : {new_emp.pay_raise}\")\n",
    "print('-'*20)\n",
    "\n",
    "# static method\n",
    "new_emp.status('good')"
   ]
  },
  {
   "cell_type": "markdown",
   "id": "7f909134",
   "metadata": {},
   "source": [
    "### Inheritance"
   ]
  },
  {
   "cell_type": "code",
   "execution_count": 28,
   "id": "0e8df59d",
   "metadata": {},
   "outputs": [],
   "source": [
    "class developer(Employee):\n",
    "    def __init__(self,name , job , pay , lang):\n",
    "        super().__init__(name,job,pay)\n",
    "        self.lang = lang\n",
    "        \n",
    "dev1 = developer('ajay' , 'ER' , 200000 , 'python')\n",
    "dev2 = developer('vijay' , 'ER' , 300000 , 'c')"
   ]
  },
  {
   "cell_type": "code",
   "execution_count": 29,
   "id": "3d4242ee",
   "metadata": {},
   "outputs": [],
   "source": [
    "class manager(Employee):\n",
    "    def __init__(self,name , job , pay , employees=None):\n",
    "        super().__init__(name,job,pay)\n",
    "        if employees is None:\n",
    "            self.employees = []\n",
    "        else:\n",
    "            self.employees = employees\n",
    "            \n",
    "    def add_emp(self,emp):\n",
    "        if emp not in self.employees:\n",
    "            self.employees.append(emp)\n",
    "    \n",
    "    def remove_emp(self,emp):\n",
    "        if emp in self.employees:\n",
    "            self.employees.remove(emp)\n",
    "    \n",
    "    def print_emps(self):\n",
    "        for emp in self.employees:\n",
    "            print('->' , emp.name)"
   ]
  },
  {
   "cell_type": "code",
   "execution_count": 30,
   "id": "9e216b92",
   "metadata": {},
   "outputs": [],
   "source": [
    "manager_1 = manager('Aditya' , 'ER' , 500000 , [dev1])"
   ]
  },
  {
   "cell_type": "code",
   "execution_count": 31,
   "id": "0e9dc42f",
   "metadata": {},
   "outputs": [
    {
     "name": "stdout",
     "output_type": "stream",
     "text": [
      "-> ajay\n",
      "-> ajay\n",
      "-> vijay\n"
     ]
    }
   ],
   "source": [
    "manager_1.print_emps()\n",
    "manager_1.add_emp(dev2)\n",
    "manager_1.print_emps()"
   ]
  },
  {
   "cell_type": "code",
   "execution_count": null,
   "id": "563793f2",
   "metadata": {},
   "outputs": [],
   "source": []
  }
 ],
 "metadata": {
  "kernelspec": {
   "display_name": "Python 3 (ipykernel)",
   "language": "python",
   "name": "python3"
  },
  "language_info": {
   "codemirror_mode": {
    "name": "ipython",
    "version": 3
   },
   "file_extension": ".py",
   "mimetype": "text/x-python",
   "name": "python",
   "nbconvert_exporter": "python",
   "pygments_lexer": "ipython3",
   "version": "3.12.3"
  }
 },
 "nbformat": 4,
 "nbformat_minor": 5
}
