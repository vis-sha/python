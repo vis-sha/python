{
 "cells": [
  {
   "cell_type": "markdown",
   "id": "f814f7ee-f677-4f3f-8d1b-29cc543ba547",
   "metadata": {},
   "source": [
    "# Software Design with python\n",
    "Here we will learn optimised way to write the code for beter efficiency and readibility.All lecture and code credit goes to Arjan Code (https://arjancodes.com)."
   ]
  },
  {
   "cell_type": "markdown",
   "id": "68ccf74f-a381-499d-aa77-47df5a3871f4",
   "metadata": {
    "jp-MarkdownHeadingCollapsed": true
   },
   "source": [
    "## Classes Dataclasses"
   ]
  },
  {
   "cell_type": "markdown",
   "id": "0b138be2-152b-4552-8f3c-55eb5b7e1d66",
   "metadata": {
    "jp-MarkdownHeadingCollapsed": true
   },
   "source": [
    "### A simple class example"
   ]
  },
  {
   "cell_type": "code",
   "execution_count": 7,
   "id": "fa10a6ef-5f8b-4d3a-bfaf-62df90dcd229",
   "metadata": {},
   "outputs": [
    {
     "name": "stdout",
     "output_type": "stream",
     "text": [
      "<__main__.Vehicle object at 0x1044d9f70>\n"
     ]
    }
   ],
   "source": [
    "class Vehicle:\n",
    "    \n",
    "    def __init__(self, brand:str, model:str, color:str) -> None:\n",
    "        self.brand = brand\n",
    "        self.model = model\n",
    "        self.color = color\n",
    "\n",
    "def main() -> None:\n",
    "    \"\"\" create some vehicle and print their detals \"\"\"\n",
    "    \n",
    "    tesla = Vehicle(\"tesla\" , \"2024\" , \"white\")\n",
    "    print(tesla)\n",
    "\n",
    "if __name__ == \"__main__\":\n",
    "    main()"
   ]
  },
  {
   "cell_type": "markdown",
   "id": "d8035c1f-32b1-4171-9238-dd9b49912987",
   "metadata": {
    "jp-MarkdownHeadingCollapsed": true
   },
   "source": [
    "### A simple class with enum datastructure type and use case"
   ]
  },
  {
   "cell_type": "code",
   "execution_count": 20,
   "id": "d0ebd9b9-3d0b-4ed2-b908-579e9adab9c3",
   "metadata": {},
   "outputs": [
    {
     "name": "stdout",
     "output_type": "stream",
     "text": [
      "<__main__.Vehicle object at 0x104373430>\n"
     ]
    }
   ],
   "source": [
    "from enum import Enum , auto\n",
    "\n",
    "class FuelType(Enum):\n",
    "    PETROL = auto()\n",
    "    DIESEL = auto()\n",
    "    ELECTRIC = auto()\n",
    "\n",
    "class Accessory(Enum):\n",
    "    OPENROOF = auto()\n",
    "    MINIBAR = auto()\n",
    "\n",
    "class Vehicle:\n",
    "\n",
    "    def __init__(self, brand:str, model:str, color:str, fuel_type:FuelType = FuelType.ELECTRIC , accessories:list[Accessory] = []) -> None:\n",
    "        self.brand = brand\n",
    "        self.model = model\n",
    "        self.color = color\n",
    "        self.fuel_type = fuel_type\n",
    "        self.accessories = accessories\n",
    "\n",
    "def main() -> None:\n",
    "    \"\"\" create some vehicle and print their detals \"\"\"\n",
    "    \n",
    "    tesla = Vehicle(\"tesla\" , \"2024\" , \"white\" , accessories=Accessory.OPENROOF)\n",
    "    print(tesla)\n",
    "\n",
    "if __name__ == \"__main__\":\n",
    "    main()"
   ]
  },
  {
   "cell_type": "markdown",
   "id": "1264d78a-87e3-4252-9ed4-711a4c3aa6c2",
   "metadata": {
    "jp-MarkdownHeadingCollapsed": true
   },
   "source": [
    "### Dataclass class\n",
    "it is data focussed and helps to remove boiler plate code as shown in example below. \\\n",
    "if a class mostly used data then this can be super useful. \\\n",
    "Dataclass is not allow to provide a mutable object like list etc as default instance variable.\n",
    "It doesn't provide encapsulation like other language. for ex in java we have public and private keywords."
   ]
  },
  {
   "cell_type": "code",
   "execution_count": 24,
   "id": "d31a516b-ec6a-43e2-91ea-b4bd917a5aa1",
   "metadata": {},
   "outputs": [
    {
     "name": "stdout",
     "output_type": "stream",
     "text": [
      "Vehicle(brand='tesla', model='2024', color='white', fuel_type=<FuelType.PETROL: 1>)\n"
     ]
    }
   ],
   "source": [
    "from enum import Enum , auto\n",
    "from dataclasses import dataclass\n",
    "\n",
    "class FuelType(Enum):\n",
    "    PETROL = auto()\n",
    "    DIESEL = auto()\n",
    "    ELECTRIC = auto()\n",
    "\n",
    "class Accessory(Enum):\n",
    "    OPENROOF = auto()\n",
    "    MINIBAR = auto()\n",
    "    \n",
    "\n",
    "# Now we don't need to initialise our variable in __init__ and again define them as we did in above example.\n",
    "# It also helps to show the object details instaed of their address.\n",
    "@dataclass\n",
    "class Vehicle:\n",
    "    brand:str\n",
    "    model:str\n",
    "    color:str\n",
    "    fuel_type:FuelType = FuelType.ELECTRIC\n",
    "    # Need to comment out as it will throw error because a dataclass is not allow \n",
    "    # to use mutable object as default instance variable\n",
    "    # accessories:list[Accessory] = []\n",
    "\n",
    "def main() -> None:\n",
    "    \"\"\" create some vehicle and print their detals \"\"\"\n",
    "    \n",
    "    tesla = Vehicle(\n",
    "        brand=\"tesla\",\n",
    "        model=\"2024\", \n",
    "        color=\"white\", \n",
    "        fuel_type=FuelType.PETROL)\n",
    "    \n",
    "    print(tesla)\n",
    "\n",
    "if __name__ == \"__main__\":\n",
    "    main()"
   ]
  },
  {
   "cell_type": "markdown",
   "id": "f0ff6473-19c0-4e8c-b5b2-5aff3ae122e0",
   "metadata": {
    "jp-MarkdownHeadingCollapsed": true
   },
   "source": [
    "### Object initialisation and use of field"
   ]
  },
  {
   "cell_type": "code",
   "execution_count": 37,
   "id": "39f886cd-48bf-4b81-8f28-6ae8d58a683a",
   "metadata": {},
   "outputs": [
    {
     "name": "stdout",
     "output_type": "stream",
     "text": [
      "Vehicle(brand='tesla', model='2024', color='white', fuel_type=<FuelType.PETROL: 1>, accessories=[<Accessory.MINIBAR: 2>])\n"
     ]
    }
   ],
   "source": [
    "from enum import Enum , auto\n",
    "from dataclasses import dataclass , field\n",
    "\n",
    "class FuelType(Enum):\n",
    "    PETROL = auto()\n",
    "    DIESEL = auto()\n",
    "    ELECTRIC = auto()\n",
    "\n",
    "class Accessory(Enum):\n",
    "    OPENROOF = auto()\n",
    "    MINIBAR = auto()\n",
    "    \n",
    "\n",
    "# Now we don't need to initialise our variable in __init__ and again define them as we did in above example.\n",
    "# It also helps to show the object details instaed of their address.\n",
    "@dataclass\n",
    "class Vehicle:\n",
    "    brand:str\n",
    "    model:str\n",
    "    color:str\n",
    "    fuel_type:FuelType = FuelType.ELECTRIC\n",
    "    # we can also pass a function in default_factory or lambda function\n",
    "    # accessories:list[Accessory] = field(default_factory = list) OR \n",
    "    accessories:list[Accessory] = field(default_factory = lambda: [Accessory.OPENROOF]) \n",
    "\n",
    "\n",
    "def main() -> None:\n",
    "    \"\"\" create some vehicle and print their detals \"\"\"\n",
    "    \n",
    "    tesla = Vehicle(\n",
    "        brand=\"tesla\",\n",
    "        model=\"2024\", \n",
    "        color=\"white\", \n",
    "        fuel_type=FuelType.PETROL, \n",
    "        accessories=[Accessory.MINIBAR]) # it override default value\n",
    "    \n",
    "    print(tesla)\n",
    "\n",
    "if __name__ == \"__main__\":\n",
    "    main()"
   ]
  },
  {
   "cell_type": "markdown",
   "id": "98162f3b-b174-43fb-88c3-6a31f795c445",
   "metadata": {},
   "source": [
    "we can see we have a cons here. we are able to initialise accessories and it is override our default value. To fix this we have a solution in field opton. We can see the fix in below code."
   ]
  },
  {
   "cell_type": "markdown",
   "id": "21b3a8d8-1517-4213-9c2e-9bb401f8fe7d",
   "metadata": {
    "jp-MarkdownHeadingCollapsed": true
   },
   "source": [
    "### Advanced object initialization"
   ]
  },
  {
   "cell_type": "markdown",
   "id": "a36a7723-07c6-4a55-9ed0-7a7e8cb6957f",
   "metadata": {},
   "source": [
    "To fix above cons case we use init = False in in field so that our default value can not be initialised again."
   ]
  },
  {
   "cell_type": "code",
   "execution_count": 52,
   "id": "e6c3bbea-5e0f-4ca7-9321-dc32f21f3d9b",
   "metadata": {},
   "outputs": [
    {
     "name": "stdout",
     "output_type": "stream",
     "text": [
      "Vehicle(brand='tesla', model='2024', color='white', fuel_type=<FuelType.ELECTRIC: 3>, accessories=[<Accessory.OPENROOF: 1>])\n",
      "Vehicle(brand='bmw', model='2024', color='blue', fuel_type=<FuelType.PETROL: 1>, accessories=[<Accessory.OPENROOF: 1>])\n"
     ]
    }
   ],
   "source": [
    "from enum import Enum , auto\n",
    "from dataclasses import dataclass , field\n",
    "\n",
    "class FuelType(Enum):\n",
    "    PETROL = auto()\n",
    "    DIESEL = auto()\n",
    "    ELECTRIC = auto()\n",
    "\n",
    "class Accessory(Enum):\n",
    "    OPENROOF = auto()\n",
    "    MINIBAR = auto()\n",
    "    \n",
    "\n",
    "# Now we don't need to initialise our variable in __init__ and again define them as we did in above example.\n",
    "# It also helps to show the object details instaed of their address.\n",
    "@dataclass\n",
    "class Vehicle:\n",
    "    brand:str\n",
    "    model:str\n",
    "    color:str\n",
    "    fuel_type:FuelType = field(init=False)\n",
    "    # we can also pass a function in default_factory or lambda function\n",
    "    accessories:list[Accessory] = field(default_factory = lambda: [Accessory.OPENROOF] , init=False)\n",
    "\n",
    "    # different method of initialisation\n",
    "    def __post_init__(self):\n",
    "        if self.brand == \"tesla\":\n",
    "            self.fuel_type = FuelType.ELECTRIC\n",
    "        else:\n",
    "            self.fuel_type = FuelType.PETROL\n",
    "\n",
    "def main() -> None:\n",
    "    \"\"\" create some vehicle and print their detals \"\"\"\n",
    "    \n",
    "    tesla = Vehicle(\n",
    "        brand=\"tesla\",\n",
    "        model=\"2024\", \n",
    "        color=\"white\") \n",
    "        #fuel_type=FuelType.PETROL)\n",
    "        # accessories=[Accessory.MINIBAR]) Now we don't want this anymore as it can not be initialised\n",
    "    \n",
    "    bmw = Vehicle(\n",
    "        brand=\"bmw\",\n",
    "        model=\"2024\", \n",
    "        color=\"blue\") \n",
    "    \n",
    "    print(tesla)\n",
    "    print(bmw)\n",
    "\n",
    "if __name__ == \"__main__\":\n",
    "    main()"
   ]
  },
  {
   "cell_type": "markdown",
   "id": "d3d1426a-40d4-46ae-bc1a-c76fda98542d",
   "metadata": {
    "jp-MarkdownHeadingCollapsed": true
   },
   "source": [
    "### Read-only objects"
   ]
  },
  {
   "cell_type": "code",
   "execution_count": 57,
   "id": "e842e69f-ba86-48e6-b6bf-180e55b113a1",
   "metadata": {},
   "outputs": [
    {
     "ename": "FrozenInstanceError",
     "evalue": "cannot assign to field 'brand'",
     "output_type": "error",
     "traceback": [
      "\u001b[0;31m---------------------------------------------------------------------------\u001b[0m",
      "\u001b[0;31mFrozenInstanceError\u001b[0m                       Traceback (most recent call last)",
      "Cell \u001b[0;32mIn[57], line 29\u001b[0m\n\u001b[1;32m     26\u001b[0m     \u001b[38;5;28mprint\u001b[39m(tesla)\n\u001b[1;32m     28\u001b[0m \u001b[38;5;28;01mif\u001b[39;00m \u001b[38;5;18m__name__\u001b[39m \u001b[38;5;241m==\u001b[39m \u001b[38;5;124m\"\u001b[39m\u001b[38;5;124m__main__\u001b[39m\u001b[38;5;124m\"\u001b[39m:\n\u001b[0;32m---> 29\u001b[0m     \u001b[43mmain\u001b[49m\u001b[43m(\u001b[49m\u001b[43m)\u001b[49m\n",
      "Cell \u001b[0;32mIn[57], line 25\u001b[0m, in \u001b[0;36mmain\u001b[0;34m()\u001b[0m\n\u001b[1;32m     18\u001b[0m \u001b[38;5;250m\u001b[39m\u001b[38;5;124;03m\"\"\" create some vehicle and print their detals \"\"\"\u001b[39;00m\n\u001b[1;32m     20\u001b[0m tesla \u001b[38;5;241m=\u001b[39m Vehicle(\n\u001b[1;32m     21\u001b[0m     brand\u001b[38;5;241m=\u001b[39m\u001b[38;5;124m\"\u001b[39m\u001b[38;5;124mtesla\u001b[39m\u001b[38;5;124m\"\u001b[39m,\n\u001b[1;32m     22\u001b[0m     model\u001b[38;5;241m=\u001b[39m\u001b[38;5;124m\"\u001b[39m\u001b[38;5;124m2024\u001b[39m\u001b[38;5;124m\"\u001b[39m, \n\u001b[1;32m     23\u001b[0m     color\u001b[38;5;241m=\u001b[39m\u001b[38;5;124m\"\u001b[39m\u001b[38;5;124mwhite\u001b[39m\u001b[38;5;124m\"\u001b[39m) \n\u001b[0;32m---> 25\u001b[0m \u001b[43mtesla\u001b[49m\u001b[38;5;241;43m.\u001b[39;49m\u001b[43mbrand\u001b[49m \u001b[38;5;241m=\u001b[39m \u001b[38;5;124m\"\u001b[39m\u001b[38;5;124mTesla\u001b[39m\u001b[38;5;124m\"\u001b[39m \u001b[38;5;66;03m# this will throw the error as this object is read-only now\u001b[39;00m\n\u001b[1;32m     26\u001b[0m \u001b[38;5;28mprint\u001b[39m(tesla)\n",
      "File \u001b[0;32m<string>:4\u001b[0m, in \u001b[0;36m__setattr__\u001b[0;34m(self, name, value)\u001b[0m\n",
      "\u001b[0;31mFrozenInstanceError\u001b[0m: cannot assign to field 'brand'"
     ]
    }
   ],
   "source": [
    "from enum import Enum , auto\n",
    "from dataclasses import dataclass , field\n",
    "\n",
    "class FuelType(Enum):\n",
    "    PETROL = auto()\n",
    "    DIESEL = auto()\n",
    "    ELECTRIC = auto()\n",
    "\n",
    "@dataclass(frozen=True) # This frozen = True restrict to change anything in the object\n",
    "class Vehicle:\n",
    "    brand:str\n",
    "    model:str\n",
    "    color:str\n",
    "    # we can also pass a function in default_factory or lambda function\n",
    "    fuel_type:FuelType = field(init=False , default_factory=lambda: FuelType.ELECTRIC)\n",
    "\n",
    "def main() -> None:\n",
    "    \"\"\" create some vehicle and print their detals \"\"\"\n",
    "    \n",
    "    tesla = Vehicle(\n",
    "        brand=\"tesla\",\n",
    "        model=\"2024\", \n",
    "        color=\"white\") \n",
    "    \n",
    "    tesla.brand = \"Tesla\" # this will throw the error as this object is read-only now\n",
    "    print(tesla)\n",
    "\n",
    "if __name__ == \"__main__\":\n",
    "    main()"
   ]
  },
  {
   "cell_type": "markdown",
   "id": "09dceac9-080d-45f2-ba28-84ed2bb7f596",
   "metadata": {
    "jp-MarkdownHeadingCollapsed": true
   },
   "source": [
    "## The Mighty function"
   ]
  },
  {
   "cell_type": "markdown",
   "id": "4f197b5a-5b02-4ebb-9cb9-2f496c607646",
   "metadata": {
    "jp-MarkdownHeadingCollapsed": true
   },
   "source": [
    "### Pure functions and Side effect functions\n",
    "Functions that changes something outside of their code or depends on outside code. Try to avoid them as they are hard to test because they can change things outside. Pure functions are easy to test"
   ]
  },
  {
   "cell_type": "code",
   "execution_count": 1,
   "id": "7b268b15-07e5-4477-b9db-b3e9fcf4e659",
   "metadata": {},
   "outputs": [
    {
     "name": "stdout",
     "output_type": "stream",
     "text": [
      "Person value before : {'Raju': {'phone': 1234, 'pincode': 1100}, 'Snou': {'phone': 5678, 'pincode': 2211}}\n",
      "Person value after  : {'Raju': {'phone': 1122, 'pincode': 1100}, 'Snou': {'phone': 5678, 'pincode': 2211}}\n"
     ]
    }
   ],
   "source": [
    "person = {\"Raju\" : {\"phone\":1234,\"pincode\":1100},\"Snou\" : {\"phone\":5678,\"pincode\":2211}}\n",
    "\n",
    "# Change the value of outside object\n",
    "def side_effect_function() -> None:\n",
    "    person[\"Raju\"][\"phone\"] = 1122\n",
    "\n",
    "print(f\"Person value before : {person}\")\n",
    "side_effect_function()\n",
    "print(f\"Person value after  : {person}\")"
   ]
  },
  {
   "cell_type": "code",
   "execution_count": 3,
   "id": "8d0bd27d-b875-428c-b785-0afaa5e81f38",
   "metadata": {},
   "outputs": [
    {
     "data": {
      "text/plain": [
       "5"
      ]
     },
     "execution_count": 3,
     "metadata": {},
     "output_type": "execute_result"
    }
   ],
   "source": [
    "def pure_function(x:int , y:int) -> int:\n",
    "    return x+y\n",
    "\n",
    "pure_function(2,3)"
   ]
  },
  {
   "cell_type": "markdown",
   "id": "b80580c0-07a8-4bc6-857a-b3f251ca0f20",
   "metadata": {
    "jp-MarkdownHeadingCollapsed": true
   },
   "source": [
    "### Callables"
   ]
  },
  {
   "cell_type": "code",
   "execution_count": 12,
   "id": "7773a928-291a-4714-b017-504453a50a07",
   "metadata": {},
   "outputs": [
    {
     "data": {
      "text/plain": [
       "2"
      ]
     },
     "execution_count": 12,
     "metadata": {},
     "output_type": "execute_result"
    }
   ],
   "source": [
    "class Myclass:\n",
    "    def __init__(self,x:int)-> None:\n",
    "        self.x = x\n",
    "\n",
    "    def __call__(self) -> int:\n",
    "        return self.x\n",
    "\n",
    "obj = Myclass(2)\n",
    "obj.x             # Without call method we need to access variable \n",
    "obj()             # With call method , we can directly call a class"
   ]
  },
  {
   "cell_type": "markdown",
   "id": "7f5f64bd-c2b7-4858-9c52-aa78306f8a17",
   "metadata": {
    "jp-MarkdownHeadingCollapsed": true
   },
   "source": [
    "### Higher oredr function and lambda functions"
   ]
  },
  {
   "cell_type": "code",
   "execution_count": 18,
   "id": "b90a2745-a481-4eb0-b683-3ba1f0f22a47",
   "metadata": {},
   "outputs": [
    {
     "name": "stdout",
     "output_type": "stream",
     "text": [
      "Checking vijay\n",
      "vijay is not eligible for promotion\n",
      "Checking vinay\n",
      "vinay is not eligible for promotion\n",
      "Checking ajay\n",
      "ajay is eligible for promotion\n"
     ]
    }
   ],
   "source": [
    "from dataclasses import dataclass\n",
    "from typing import Callable\n",
    "\n",
    "@dataclass\n",
    "class Customer_class:\n",
    "    name:str\n",
    "    age:int\n",
    "\n",
    "# Now this is high order function\n",
    "def send_email_promotion(customers_list:list[Customer_class],is_eligible:Callable[[Customer_class],bool])-> None:\n",
    "    for  each_customer in customers_list:\n",
    "        print(f\"Checking {each_customer.name}\")\n",
    "        if is_eligible(each_customer):\n",
    "            print(f\"{each_customer.name} is eligible for promotion\")\n",
    "        else:\n",
    "            print(f\"{each_customer.name} is not eligible for promotion\")\n",
    "\n",
    "def is_eligible(customer_object:Customer_class) -> bool:\n",
    "    return customer_object.age > 50\n",
    "\n",
    "def main()-> None:\n",
    "    customers = [Customer_class(\"vijay\",25),Customer_class(\"vinay\",30),Customer_class(\"ajay\",52)]\n",
    "    send_email_promotion(customers,is_eligible)\n",
    "    # send_email_promotion(customers, lambda customer_object: customer_object.age > 50)\n",
    "\n",
    "if __name__ == \"__main__\":\n",
    "    main()"
   ]
  },
  {
   "cell_type": "markdown",
   "id": "cb6eb797-5ab0-4802-9a2b-1890a3de65e4",
   "metadata": {
    "jp-MarkdownHeadingCollapsed": true
   },
   "source": [
    "### Closures and partial functions applications\n",
    "closure is a function which is defined within a function"
   ]
  },
  {
   "cell_type": "code",
   "execution_count": 21,
   "id": "bd3b9899-2ae5-483d-9823-d7df6f3bb16d",
   "metadata": {},
   "outputs": [
    {
     "name": "stdout",
     "output_type": "stream",
     "text": [
      "Checking vijay\n",
      "vijay is not eligible for promotion\n",
      "Checking vinay\n",
      "vinay is eligible for promotion\n",
      "Checking ajay\n",
      "ajay is eligible for promotion\n"
     ]
    }
   ],
   "source": [
    "from dataclasses import dataclass\n",
    "from typing import Callable\n",
    "from functools import partial\n",
    "\n",
    "@dataclass\n",
    "class Customer_class:\n",
    "    name:str\n",
    "    age:int\n",
    "\n",
    "# Now this is high order function\n",
    "def send_email_promotion(customers_list:list[Customer_class],is_eligible:Callable[[Customer_class],bool])-> None:\n",
    "    for  each_customer in customers_list:\n",
    "        print(f\"Checking {each_customer.name}\")\n",
    "        if is_eligible(each_customer):\n",
    "            print(f\"{each_customer.name} is eligible for promotion\")\n",
    "        else:\n",
    "            print(f\"{each_customer.name} is not eligible for promotion\")\n",
    "\n",
    "def is_eligible(customer_object:Customer_class , age_limit:int = 50) -> bool:\n",
    "    return customer_object.age > age_limit\n",
    "\n",
    "def main()-> None:\n",
    "    customers = [Customer_class(\"vijay\",25),Customer_class(\"vinay\",30),Customer_class(\"ajay\",52)]\n",
    "    is_eligible_with_age = partial(is_eligible , age_limit = 28)  # partial function\n",
    "    # send_email_promotion(customers,is_eligible)\n",
    "    # send_email_promotion(customers, lambda customer_object: customer_object.age > 50)\n",
    "    send_email_promotion(customers,is_eligible_with_age)     \n",
    "\n",
    "\n",
    "if __name__ == \"__main__\":\n",
    "    main()"
   ]
  },
  {
   "cell_type": "markdown",
   "id": "c2c01a74-125d-40ed-869b-765c9f84a79b",
   "metadata": {
    "jp-MarkdownHeadingCollapsed": true
   },
   "source": [
    "### Grouping functions\n",
    "To group same kind of function which take same arguments , we can group them in list or other data structure rather only using classes for grouping."
   ]
  },
  {
   "cell_type": "markdown",
   "id": "c4273093-328d-4fde-8d12-029339f980dd",
   "metadata": {},
   "source": [
    "### Classes vs Functions"
   ]
  },
  {
   "cell_type": "markdown",
   "id": "70fa0d74-1398-4d64-a4c1-e3da5e4a40ca",
   "metadata": {},
   "source": [
    "## Inheritance ABC's protocols"
   ]
  },
  {
   "cell_type": "code",
   "execution_count": null,
   "id": "cc0ba26b-eff3-41c1-99b3-c7a865f54eae",
   "metadata": {},
   "outputs": [],
   "source": []
  }
 ],
 "metadata": {
  "kernelspec": {
   "display_name": "Python 3 (ipykernel)",
   "language": "python",
   "name": "python3"
  },
  "language_info": {
   "codemirror_mode": {
    "name": "ipython",
    "version": 3
   },
   "file_extension": ".py",
   "mimetype": "text/x-python",
   "name": "python",
   "nbconvert_exporter": "python",
   "pygments_lexer": "ipython3",
   "version": "3.9.6"
  }
 },
 "nbformat": 4,
 "nbformat_minor": 5
}
